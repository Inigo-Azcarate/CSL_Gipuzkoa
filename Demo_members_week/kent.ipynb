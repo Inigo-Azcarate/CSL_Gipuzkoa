{
 "cells": [
  {
   "cell_type": "code",
   "execution_count": 1,
   "metadata": {},
   "outputs": [
    {
     "ename": "ModuleNotFoundError",
     "evalue": "No module named 'matplotlib'",
     "output_type": "error",
     "traceback": [
      "\u001b[1;31m---------------------------------------------------------------------------\u001b[0m",
      "\u001b[1;31mModuleNotFoundError\u001b[0m                       Traceback (most recent call last)",
      "\u001b[1;32mc:\\Users\\iazka\\Mi unidad (inigo19@media.mit.edu)\\Mode-choice\\MoCho_members_week\\kent.ipynb Cell 1\u001b[0m line \u001b[0;36m1\n\u001b[1;32m----> <a href='vscode-notebook-cell:/c%3A/Users/iazka/Mi%20unidad%20%28inigo19%40media.mit.edu%29/Mode-choice/MoCho_members_week/kent.ipynb#W0sZmlsZQ%3D%3D?line=0'>1</a>\u001b[0m \u001b[39mimport\u001b[39;00m \u001b[39mmatplotlib\u001b[39;00m\u001b[39m.\u001b[39;00m\u001b[39mpyplot\u001b[39;00m \u001b[39mas\u001b[39;00m \u001b[39mplt\u001b[39;00m\n\u001b[0;32m      <a href='vscode-notebook-cell:/c%3A/Users/iazka/Mi%20unidad%20%28inigo19%40media.mit.edu%29/Mode-choice/MoCho_members_week/kent.ipynb#W0sZmlsZQ%3D%3D?line=2'>3</a>\u001b[0m \u001b[39m# Datos de ejemplo\u001b[39;00m\n\u001b[0;32m      <a href='vscode-notebook-cell:/c%3A/Users/iazka/Mi%20unidad%20%28inigo19%40media.mit.edu%29/Mode-choice/MoCho_members_week/kent.ipynb#W0sZmlsZQ%3D%3D?line=3'>4</a>\u001b[0m nombres \u001b[39m=\u001b[39m [\u001b[39m'\u001b[39m\u001b[39mNombre1\u001b[39m\u001b[39m'\u001b[39m, \u001b[39m'\u001b[39m\u001b[39mNombre2\u001b[39m\u001b[39m'\u001b[39m, \u001b[39m'\u001b[39m\u001b[39mNombre3\u001b[39m\u001b[39m'\u001b[39m, \u001b[39m'\u001b[39m\u001b[39mNombre4\u001b[39m\u001b[39m'\u001b[39m, \u001b[39m'\u001b[39m\u001b[39mNombre5\u001b[39m\u001b[39m'\u001b[39m]\n",
      "\u001b[1;31mModuleNotFoundError\u001b[0m: No module named 'matplotlib'"
     ]
    }
   ],
   "source": [
    "import matplotlib.pyplot as plt\n",
    "\n",
    "# Datos de ejemplo\n",
    "nombres = ['Nombre1', 'Nombre2', 'Nombre3', 'Nombre4', 'Nombre5']\n",
    "numeros = [20, 30, 15, 10, 25]\n",
    "\n",
    "# Configuración del gráfico de queso\n",
    "plt.figure(figsize=(6, 6))\n",
    "plt.pie(numeros, labels=nombres, autopct='%1.1f%%', startangle=140)\n",
    "\n",
    "# Título del gráfico\n",
    "plt.title('Gráfico de Queso')\n",
    "\n",
    "# Mostrar el gráfico\n",
    "plt.show()\n"
   ]
  }
 ],
 "metadata": {
  "kernelspec": {
   "display_name": ".venv",
   "language": "python",
   "name": "python3"
  },
  "language_info": {
   "codemirror_mode": {
    "name": "ipython",
    "version": 3
   },
   "file_extension": ".py",
   "mimetype": "text/x-python",
   "name": "python",
   "nbconvert_exporter": "python",
   "pygments_lexer": "ipython3",
   "version": "3.11.2"
  }
 },
 "nbformat": 4,
 "nbformat_minor": 2
}
