{
 "cells": [
  {
   "cell_type": "code",
   "execution_count": 1,
   "id": "65367c31-f81f-46fc-b200-86494b859a66",
   "metadata": {},
   "outputs": [],
   "source": [
    "import json\n",
    "import pandas as pd\n",
    "import shapely\n",
    "import geopandas as gpd\n",
    "from shapely.geometry import LineString, Point\n",
    "import pandana\n",
    "import osmnet"
   ]
  },
  {
   "cell_type": "code",
   "execution_count": 2,
   "id": "3889520f-2ea0-4943-a67f-f0061696cc79",
   "metadata": {},
   "outputs": [],
   "source": [
    "od=pd.read_csv(f'data/Gipuzkoa_no_NaNs.csv')"
   ]
  },
  {
   "cell_type": "code",
   "execution_count": 4,
   "id": "c0db6a4d-1fc2-4bc2-9482-53954c8fbb4c",
   "metadata": {},
   "outputs": [],
   "source": [
    "# min_lon, max_lon, min_lat, max_lat = -97.5466, -97.4061, 25.8733, 25.988\n",
    "min_lon, max_lon, min_lat, max_lat = (\n",
    "    od['O_long'].min(), od['O_long'].max(),\n",
    "    od['O_lat'].min(), od['O_lat'].max())"
   ]
  },
  {
   "cell_type": "markdown",
   "id": "ff77fa1b",
   "metadata": {},
   "source": [
    "## Drive"
   ]
  },
  {
   "cell_type": "code",
   "execution_count": 6,
   "id": "c7dd53de-e36b-467d-98cc-8198e18ad477",
   "metadata": {},
   "outputs": [
    {
     "name": "stdout",
     "output_type": "stream",
     "text": [
      "Requesting network data within bounding box from Overpass API in 4 request(s)\n",
      "Posting to http://www.overpass-api.de/api/interpreter with timeout=180, \"{'data': '[out:json][timeout:180];(way[\"highway\"][\"highway\"!~\"cycleway|footway|path|pedestrian|steps|track|proposed|construction|bridleway|abandoned|platform|raceway|service\"][\"motor_vehicle\"!~\"no\"][\"motorcar\"!~\"no\"][\"service\"!~\"parking|parking_aisle|driveway|emergency_access\"](42.97819870,-2.54228824,43.18808542,-2.13466048);>;);out;'}\"\n",
      "Downloaded 15,203.7KB from www.overpass-api.de in 1.49 seconds\n",
      "Posting to http://www.overpass-api.de/api/interpreter with timeout=180, \"{'data': '[out:json][timeout:180];(way[\"highway\"][\"highway\"!~\"cycleway|footway|path|pedestrian|steps|track|proposed|construction|bridleway|abandoned|platform|raceway|service\"][\"motor_vehicle\"!~\"no\"][\"motorcar\"!~\"no\"][\"service\"!~\"parking|parking_aisle|driveway|emergency_access\"](43.18572840,-2.54228824,43.39254746,-2.13172333);>;);out;'}\"\n",
      "Downloaded 6,851.9KB from www.overpass-api.de in 1.15 seconds\n",
      "Posting to http://www.overpass-api.de/api/interpreter with timeout=180, \"{'data': '[out:json][timeout:180];(way[\"highway\"][\"highway\"!~\"cycleway|footway|path|pedestrian|steps|track|proposed|construction|bridleway|abandoned|platform|raceway|service\"][\"motor_vehicle\"!~\"no\"][\"motorcar\"!~\"no\"][\"service\"!~\"parking|parking_aisle|driveway|emergency_access\"](43.18194952,-2.13466048,43.39254746,-1.72979091);>;);out;'}\"\n",
      "Downloaded 13,955.5KB from www.overpass-api.de in 1.33 seconds\n",
      "Posting to http://www.overpass-api.de/api/interpreter with timeout=180, \"{'data': '[out:json][timeout:180];(way[\"highway\"][\"highway\"!~\"cycleway|footway|path|pedestrian|steps|track|proposed|construction|bridleway|abandoned|platform|raceway|service\"][\"motor_vehicle\"!~\"no\"][\"motorcar\"!~\"no\"][\"service\"!~\"parking|parking_aisle|driveway|emergency_access\"](42.97819870,-2.13756640,43.18572840,-1.72979091);>;);out;'}\"\n",
      "Downloaded 6,297.7KB from www.overpass-api.de in 1.11 seconds\n",
      "Downloaded OSM network data within bounding box from Overpass API in 4 request(s) and 5.67 seconds\n",
      "11,155 duplicate records removed. Took 1.07 seconds\n",
      "Returning OSM data with 337,088 nodes and 29,015 ways...\n",
      "Edge node pairs completed. Took 11.38 seconds\n",
      "Returning processed graph with 28,195 nodes and 71,030 edges...\n",
      "Completed OSM data download and Pandana node and edge table creation in 19.05 seconds\n"
     ]
    }
   ],
   "source": [
    "# Emplea la libreria osmnet.load para cargar los nodos y edges del network de carreteras\n",
    "\n",
    "drive_nodes, drive_edges = osmnet.load.network_from_bbox(\n",
    "    lat_min=min_lat, lng_min=min_lon, lat_max=max_lat, \n",
    "    lng_max=max_lon, network_type='drive', two_way=False)"
   ]
  },
  {
   "cell_type": "code",
   "execution_count": 7,
   "id": "c79e435e-779b-4f25-bcfd-25c8251afbeb",
   "metadata": {},
   "outputs": [],
   "source": [
    "drive_nodes=drive_nodes.rename(columns = {'x': 'lon', 'y': 'lat'})"
   ]
  },
  {
   "cell_type": "code",
   "execution_count": 8,
   "id": "ee5ea11e-f765-43d2-91e7-86a5c63e0eea",
   "metadata": {},
   "outputs": [],
   "source": [
    "# Asigna a cada edge la longitud y latitud de salida y llegada. Edge solo tenia el id de los nodos, y con merge se le añade las caracteristicas.\n",
    "\n",
    "drive_edges=drive_edges.merge(drive_nodes, how='left', left_on='from', right_index=True).rename(\n",
    "    columns={'lon': 'from_lon', 'lat': 'from_lat'})\n",
    "drive_edges=drive_edges.merge(drive_nodes, how='left', left_on='to', right_index=True).rename(\n",
    "    columns={'lon': 'to_lon', 'lat': 'to_lat'})"
   ]
  },
  {
   "cell_type": "code",
   "execution_count": 9,
   "id": "5e2f166c-b1cc-490e-a763-362c6c8f5a15",
   "metadata": {},
   "outputs": [],
   "source": [
    "# Calcular la geometría (línea) entre 'from' y 'to' de cada fila en df drive_edges con la biblioteca Shapely y almacenando estas geometrías en la nueva columna 'geometry'. Esta técnica es útil cuando estás trabajando con datos geoespaciales y necesitas representar visualmente las líneas entre nodos.\n",
    "\n",
    "drive_edges['geometry']=drive_edges.apply(\n",
    "    lambda row: LineString([[row['from_lon'], row['from_lat']],\n",
    "                             [row['to_lon'], row['to_lat']]]), axis=1)"
   ]
  },
  {
   "cell_type": "code",
   "execution_count": 10,
   "id": "fcb7e81c-f96a-4874-8f5f-afe78dc12af4",
   "metadata": {},
   "outputs": [
    {
     "data": {
      "text/html": [
       "<div>\n",
       "<style scoped>\n",
       "    .dataframe tbody tr th:only-of-type {\n",
       "        vertical-align: middle;\n",
       "    }\n",
       "\n",
       "    .dataframe tbody tr th {\n",
       "        vertical-align: top;\n",
       "    }\n",
       "\n",
       "    .dataframe thead th {\n",
       "        text-align: right;\n",
       "    }\n",
       "</style>\n",
       "<table border=\"1\" class=\"dataframe\">\n",
       "  <thead>\n",
       "    <tr style=\"text-align: right;\">\n",
       "      <th></th>\n",
       "      <th></th>\n",
       "      <th>from</th>\n",
       "      <th>to</th>\n",
       "      <th>distance</th>\n",
       "      <th>name</th>\n",
       "      <th>ref</th>\n",
       "      <th>highway</th>\n",
       "      <th>service</th>\n",
       "      <th>bridge</th>\n",
       "      <th>tunnel</th>\n",
       "      <th>access</th>\n",
       "      <th>...</th>\n",
       "      <th>area</th>\n",
       "      <th>width</th>\n",
       "      <th>junction</th>\n",
       "      <th>from_lon</th>\n",
       "      <th>from_lat</th>\n",
       "      <th>id_x</th>\n",
       "      <th>to_lon</th>\n",
       "      <th>to_lat</th>\n",
       "      <th>id_y</th>\n",
       "      <th>geometry</th>\n",
       "    </tr>\n",
       "  </thead>\n",
       "  <tbody>\n",
       "    <tr>\n",
       "      <th>25432201</th>\n",
       "      <th>25439650</th>\n",
       "      <td>25432201</td>\n",
       "      <td>25439650</td>\n",
       "      <td>155.915932</td>\n",
       "      <td>Fermin Calbeton kalea</td>\n",
       "      <td>NaN</td>\n",
       "      <td>tertiary</td>\n",
       "      <td>NaN</td>\n",
       "      <td>NaN</td>\n",
       "      <td>NaN</td>\n",
       "      <td>NaN</td>\n",
       "      <td>...</td>\n",
       "      <td>NaN</td>\n",
       "      <td>NaN</td>\n",
       "      <td>NaN</td>\n",
       "      <td>-2.472783</td>\n",
       "      <td>43.184141</td>\n",
       "      <td>25432201</td>\n",
       "      <td>-2.471287</td>\n",
       "      <td>43.185020</td>\n",
       "      <td>25439650</td>\n",
       "      <td>LINESTRING (-2.47278 43.18414, -2.47129 43.18502)</td>\n",
       "    </tr>\n",
       "    <tr>\n",
       "      <th rowspan=\"2\" valign=\"top\">25439650</th>\n",
       "      <th>25432201</th>\n",
       "      <td>25439650</td>\n",
       "      <td>25432201</td>\n",
       "      <td>155.915932</td>\n",
       "      <td>Fermin Calbeton kalea</td>\n",
       "      <td>NaN</td>\n",
       "      <td>tertiary</td>\n",
       "      <td>NaN</td>\n",
       "      <td>NaN</td>\n",
       "      <td>NaN</td>\n",
       "      <td>NaN</td>\n",
       "      <td>...</td>\n",
       "      <td>NaN</td>\n",
       "      <td>NaN</td>\n",
       "      <td>NaN</td>\n",
       "      <td>-2.471287</td>\n",
       "      <td>43.185020</td>\n",
       "      <td>25439650</td>\n",
       "      <td>-2.472783</td>\n",
       "      <td>43.184141</td>\n",
       "      <td>25432201</td>\n",
       "      <td>LINESTRING (-2.47129 43.18502, -2.47278 43.18414)</td>\n",
       "    </tr>\n",
       "    <tr>\n",
       "      <th>25439602</th>\n",
       "      <td>25439650</td>\n",
       "      <td>25439602</td>\n",
       "      <td>58.853888</td>\n",
       "      <td>Plaza Barria</td>\n",
       "      <td>NaN</td>\n",
       "      <td>tertiary</td>\n",
       "      <td>NaN</td>\n",
       "      <td>NaN</td>\n",
       "      <td>NaN</td>\n",
       "      <td>NaN</td>\n",
       "      <td>...</td>\n",
       "      <td>NaN</td>\n",
       "      <td>NaN</td>\n",
       "      <td>NaN</td>\n",
       "      <td>-2.471287</td>\n",
       "      <td>43.185020</td>\n",
       "      <td>25439650</td>\n",
       "      <td>-2.470583</td>\n",
       "      <td>43.185149</td>\n",
       "      <td>25439602</td>\n",
       "      <td>LINESTRING (-2.47129 43.18502, -2.47058 43.18515)</td>\n",
       "    </tr>\n",
       "    <tr>\n",
       "      <th>25439602</th>\n",
       "      <th>25439650</th>\n",
       "      <td>25439602</td>\n",
       "      <td>25439650</td>\n",
       "      <td>58.853888</td>\n",
       "      <td>Plaza Barria</td>\n",
       "      <td>NaN</td>\n",
       "      <td>tertiary</td>\n",
       "      <td>NaN</td>\n",
       "      <td>NaN</td>\n",
       "      <td>NaN</td>\n",
       "      <td>NaN</td>\n",
       "      <td>...</td>\n",
       "      <td>NaN</td>\n",
       "      <td>NaN</td>\n",
       "      <td>NaN</td>\n",
       "      <td>-2.470583</td>\n",
       "      <td>43.185149</td>\n",
       "      <td>25439602</td>\n",
       "      <td>-2.471287</td>\n",
       "      <td>43.185020</td>\n",
       "      <td>25439650</td>\n",
       "      <td>LINESTRING (-2.47058 43.18515, -2.47129 43.18502)</td>\n",
       "    </tr>\n",
       "    <tr>\n",
       "      <th>25439664</th>\n",
       "      <th>25439669</th>\n",
       "      <td>25439664</td>\n",
       "      <td>25439669</td>\n",
       "      <td>103.042800</td>\n",
       "      <td>Zuloagatarren kalea</td>\n",
       "      <td>NaN</td>\n",
       "      <td>living_street</td>\n",
       "      <td>NaN</td>\n",
       "      <td>NaN</td>\n",
       "      <td>NaN</td>\n",
       "      <td>NaN</td>\n",
       "      <td>...</td>\n",
       "      <td>NaN</td>\n",
       "      <td>NaN</td>\n",
       "      <td>NaN</td>\n",
       "      <td>-2.470804</td>\n",
       "      <td>43.185877</td>\n",
       "      <td>25439664</td>\n",
       "      <td>-2.470002</td>\n",
       "      <td>43.185159</td>\n",
       "      <td>25439669</td>\n",
       "      <td>LINESTRING (-2.47080 43.18588, -2.47000 43.18516)</td>\n",
       "    </tr>\n",
       "    <tr>\n",
       "      <th>...</th>\n",
       "      <th>...</th>\n",
       "      <td>...</td>\n",
       "      <td>...</td>\n",
       "      <td>...</td>\n",
       "      <td>...</td>\n",
       "      <td>...</td>\n",
       "      <td>...</td>\n",
       "      <td>...</td>\n",
       "      <td>...</td>\n",
       "      <td>...</td>\n",
       "      <td>...</td>\n",
       "      <td>...</td>\n",
       "      <td>...</td>\n",
       "      <td>...</td>\n",
       "      <td>...</td>\n",
       "      <td>...</td>\n",
       "      <td>...</td>\n",
       "      <td>...</td>\n",
       "      <td>...</td>\n",
       "      <td>...</td>\n",
       "      <td>...</td>\n",
       "      <td>...</td>\n",
       "    </tr>\n",
       "    <tr>\n",
       "      <th rowspan=\"2\" valign=\"top\">307948700</th>\n",
       "      <th>3898364377</th>\n",
       "      <td>307948700</td>\n",
       "      <td>3898364377</td>\n",
       "      <td>657.049391</td>\n",
       "      <td>NaN</td>\n",
       "      <td>GI-2130</td>\n",
       "      <td>secondary</td>\n",
       "      <td>NaN</td>\n",
       "      <td>NaN</td>\n",
       "      <td>NaN</td>\n",
       "      <td>NaN</td>\n",
       "      <td>...</td>\n",
       "      <td>NaN</td>\n",
       "      <td>NaN</td>\n",
       "      <td>NaN</td>\n",
       "      <td>-2.007523</td>\n",
       "      <td>43.144080</td>\n",
       "      <td>307948700</td>\n",
       "      <td>-2.015493</td>\n",
       "      <td>43.143041</td>\n",
       "      <td>3898364377</td>\n",
       "      <td>LINESTRING (-2.00752 43.14408, -2.01549 43.14304)</td>\n",
       "    </tr>\n",
       "    <tr>\n",
       "      <th>2424397909</th>\n",
       "      <td>307948700</td>\n",
       "      <td>2424397909</td>\n",
       "      <td>57.454776</td>\n",
       "      <td>NaN</td>\n",
       "      <td>GI-2130</td>\n",
       "      <td>secondary</td>\n",
       "      <td>NaN</td>\n",
       "      <td>NaN</td>\n",
       "      <td>NaN</td>\n",
       "      <td>NaN</td>\n",
       "      <td>...</td>\n",
       "      <td>NaN</td>\n",
       "      <td>NaN</td>\n",
       "      <td>NaN</td>\n",
       "      <td>-2.007523</td>\n",
       "      <td>43.144080</td>\n",
       "      <td>307948700</td>\n",
       "      <td>-2.006904</td>\n",
       "      <td>43.143830</td>\n",
       "      <td>2424397909</td>\n",
       "      <td>LINESTRING (-2.00752 43.14408, -2.00690 43.14383)</td>\n",
       "    </tr>\n",
       "    <tr>\n",
       "      <th rowspan=\"2\" valign=\"top\">2424397909</th>\n",
       "      <th>307948700</th>\n",
       "      <td>2424397909</td>\n",
       "      <td>307948700</td>\n",
       "      <td>57.454776</td>\n",
       "      <td>NaN</td>\n",
       "      <td>GI-2130</td>\n",
       "      <td>secondary</td>\n",
       "      <td>NaN</td>\n",
       "      <td>NaN</td>\n",
       "      <td>NaN</td>\n",
       "      <td>NaN</td>\n",
       "      <td>...</td>\n",
       "      <td>NaN</td>\n",
       "      <td>NaN</td>\n",
       "      <td>NaN</td>\n",
       "      <td>-2.006904</td>\n",
       "      <td>43.143830</td>\n",
       "      <td>2424397909</td>\n",
       "      <td>-2.007523</td>\n",
       "      <td>43.144080</td>\n",
       "      <td>307948700</td>\n",
       "      <td>LINESTRING (-2.00690 43.14383, -2.00752 43.14408)</td>\n",
       "    </tr>\n",
       "    <tr>\n",
       "      <th>487091090</th>\n",
       "      <td>2424397909</td>\n",
       "      <td>487091090</td>\n",
       "      <td>200.004057</td>\n",
       "      <td>NaN</td>\n",
       "      <td>GI-2130</td>\n",
       "      <td>secondary</td>\n",
       "      <td>NaN</td>\n",
       "      <td>NaN</td>\n",
       "      <td>NaN</td>\n",
       "      <td>NaN</td>\n",
       "      <td>...</td>\n",
       "      <td>NaN</td>\n",
       "      <td>NaN</td>\n",
       "      <td>NaN</td>\n",
       "      <td>-2.006904</td>\n",
       "      <td>43.143830</td>\n",
       "      <td>2424397909</td>\n",
       "      <td>-2.004505</td>\n",
       "      <td>43.143418</td>\n",
       "      <td>487091090</td>\n",
       "      <td>LINESTRING (-2.00690 43.14383, -2.00450 43.14342)</td>\n",
       "    </tr>\n",
       "    <tr>\n",
       "      <th>487091090</th>\n",
       "      <th>2424397909</th>\n",
       "      <td>487091090</td>\n",
       "      <td>2424397909</td>\n",
       "      <td>200.004057</td>\n",
       "      <td>NaN</td>\n",
       "      <td>GI-2130</td>\n",
       "      <td>secondary</td>\n",
       "      <td>NaN</td>\n",
       "      <td>NaN</td>\n",
       "      <td>NaN</td>\n",
       "      <td>NaN</td>\n",
       "      <td>...</td>\n",
       "      <td>NaN</td>\n",
       "      <td>NaN</td>\n",
       "      <td>NaN</td>\n",
       "      <td>-2.004505</td>\n",
       "      <td>43.143418</td>\n",
       "      <td>487091090</td>\n",
       "      <td>-2.006904</td>\n",
       "      <td>43.143830</td>\n",
       "      <td>2424397909</td>\n",
       "      <td>LINESTRING (-2.00450 43.14342, -2.00690 43.14383)</td>\n",
       "    </tr>\n",
       "  </tbody>\n",
       "</table>\n",
       "<p>71030 rows × 24 columns</p>\n",
       "</div>"
      ],
      "text/plain": [
       "                             from          to    distance  \\\n",
       "25432201   25439650      25432201    25439650  155.915932   \n",
       "25439650   25432201      25439650    25432201  155.915932   \n",
       "           25439602      25439650    25439602   58.853888   \n",
       "25439602   25439650      25439602    25439650   58.853888   \n",
       "25439664   25439669      25439664    25439669  103.042800   \n",
       "...                           ...         ...         ...   \n",
       "307948700  3898364377   307948700  3898364377  657.049391   \n",
       "           2424397909   307948700  2424397909   57.454776   \n",
       "2424397909 307948700   2424397909   307948700   57.454776   \n",
       "           487091090   2424397909   487091090  200.004057   \n",
       "487091090  2424397909   487091090  2424397909  200.004057   \n",
       "\n",
       "                                        name      ref        highway service  \\\n",
       "25432201   25439650    Fermin Calbeton kalea      NaN       tertiary     NaN   \n",
       "25439650   25432201    Fermin Calbeton kalea      NaN       tertiary     NaN   \n",
       "           25439602             Plaza Barria      NaN       tertiary     NaN   \n",
       "25439602   25439650             Plaza Barria      NaN       tertiary     NaN   \n",
       "25439664   25439669      Zuloagatarren kalea      NaN  living_street     NaN   \n",
       "...                                      ...      ...            ...     ...   \n",
       "307948700  3898364377                    NaN  GI-2130      secondary     NaN   \n",
       "           2424397909                    NaN  GI-2130      secondary     NaN   \n",
       "2424397909 307948700                     NaN  GI-2130      secondary     NaN   \n",
       "           487091090                     NaN  GI-2130      secondary     NaN   \n",
       "487091090  2424397909                    NaN  GI-2130      secondary     NaN   \n",
       "\n",
       "                      bridge tunnel access  ... area width junction  from_lon  \\\n",
       "25432201   25439650      NaN    NaN    NaN  ...  NaN   NaN      NaN -2.472783   \n",
       "25439650   25432201      NaN    NaN    NaN  ...  NaN   NaN      NaN -2.471287   \n",
       "           25439602      NaN    NaN    NaN  ...  NaN   NaN      NaN -2.471287   \n",
       "25439602   25439650      NaN    NaN    NaN  ...  NaN   NaN      NaN -2.470583   \n",
       "25439664   25439669      NaN    NaN    NaN  ...  NaN   NaN      NaN -2.470804   \n",
       "...                      ...    ...    ...  ...  ...   ...      ...       ...   \n",
       "307948700  3898364377    NaN    NaN    NaN  ...  NaN   NaN      NaN -2.007523   \n",
       "           2424397909    NaN    NaN    NaN  ...  NaN   NaN      NaN -2.007523   \n",
       "2424397909 307948700     NaN    NaN    NaN  ...  NaN   NaN      NaN -2.006904   \n",
       "           487091090     NaN    NaN    NaN  ...  NaN   NaN      NaN -2.006904   \n",
       "487091090  2424397909    NaN    NaN    NaN  ...  NaN   NaN      NaN -2.004505   \n",
       "\n",
       "                        from_lat        id_x    to_lon     to_lat        id_y  \\\n",
       "25432201   25439650    43.184141    25432201 -2.471287  43.185020    25439650   \n",
       "25439650   25432201    43.185020    25439650 -2.472783  43.184141    25432201   \n",
       "           25439602    43.185020    25439650 -2.470583  43.185149    25439602   \n",
       "25439602   25439650    43.185149    25439602 -2.471287  43.185020    25439650   \n",
       "25439664   25439669    43.185877    25439664 -2.470002  43.185159    25439669   \n",
       "...                          ...         ...       ...        ...         ...   \n",
       "307948700  3898364377  43.144080   307948700 -2.015493  43.143041  3898364377   \n",
       "           2424397909  43.144080   307948700 -2.006904  43.143830  2424397909   \n",
       "2424397909 307948700   43.143830  2424397909 -2.007523  43.144080   307948700   \n",
       "           487091090   43.143830  2424397909 -2.004505  43.143418   487091090   \n",
       "487091090  2424397909  43.143418   487091090 -2.006904  43.143830  2424397909   \n",
       "\n",
       "                                                                geometry  \n",
       "25432201   25439650    LINESTRING (-2.47278 43.18414, -2.47129 43.18502)  \n",
       "25439650   25432201    LINESTRING (-2.47129 43.18502, -2.47278 43.18414)  \n",
       "           25439602    LINESTRING (-2.47129 43.18502, -2.47058 43.18515)  \n",
       "25439602   25439650    LINESTRING (-2.47058 43.18515, -2.47129 43.18502)  \n",
       "25439664   25439669    LINESTRING (-2.47080 43.18588, -2.47000 43.18516)  \n",
       "...                                                                  ...  \n",
       "307948700  3898364377  LINESTRING (-2.00752 43.14408, -2.01549 43.14304)  \n",
       "           2424397909  LINESTRING (-2.00752 43.14408, -2.00690 43.14383)  \n",
       "2424397909 307948700   LINESTRING (-2.00690 43.14383, -2.00752 43.14408)  \n",
       "           487091090   LINESTRING (-2.00690 43.14383, -2.00450 43.14342)  \n",
       "487091090  2424397909  LINESTRING (-2.00450 43.14342, -2.00690 43.14383)  \n",
       "\n",
       "[71030 rows x 24 columns]"
      ]
     },
     "execution_count": 10,
     "metadata": {},
     "output_type": "execute_result"
    }
   ],
   "source": [
    "# Crear un geodataframe\n",
    "\n",
    "drive_edges_gdf=gpd.GeoDataFrame(data=drive_edges, geometry='geometry', crs='epsg:4326')\n",
    "drive_edges_gdf"
   ]
  },
  {
   "cell_type": "markdown",
   "id": "f67ddc50-0f9d-4782-9f62-b722ae6b9995",
   "metadata": {},
   "source": [
    "### Ensure all roads have valid speed"
   ]
  },
  {
   "cell_type": "code",
   "execution_count": 11,
   "id": "9e158df3-aa6a-4aa3-9b42-d73d15ebd0c5",
   "metadata": {},
   "outputs": [],
   "source": [
    "# Eliminar \"_link\" de los valores de la columna highway\n",
    "\n",
    "drive_edges_gdf['highway']=drive_edges_gdf['highway'].apply(lambda hw: hw.replace('_link', ''))\n",
    "\n",
    "# Primero, se llenan los valores nulos con ceros, y luego se convierten los valores restantes en enteros, extrayendo el componente numérico y eliminando cualquier texto adicional (de 60 km/h a 60).\n",
    "\n",
    "drive_edges_gdf['maxspeed']=drive_edges_gdf['maxspeed'].fillna(0)\n",
    "drive_edges_gdf['maxspeed']=drive_edges_gdf['maxspeed'].apply(lambda s: int(str(s).split(' ')[0]))\n",
    "\n",
    "# Agrupa los highways por tipo y calcula y guarda la moda de cada tipo en el elemento \"grouped\"\n",
    "\n",
    "grouped = drive_edges_gdf.loc[drive_edges_gdf['maxspeed']>0].groupby('highway')['maxspeed'].agg(pd.Series.mode)\n",
    "for t in drive_edges_gdf.highway.unique():\n",
    "    if t not in grouped.keys():\n",
    "        grouped[t] = grouped[\"unclassified\"]\n",
    "        \n",
    "# Replace zero values with group mode\n",
    "drive_edges_gdf.loc[drive_edges_gdf['maxspeed'] == 0, 'maxspeed'] = drive_edges_gdf.loc[drive_edges_gdf['maxspeed'] == 0, 'highway'].apply(lambda x: grouped[x])"
   ]
  },
  {
   "cell_type": "code",
   "execution_count": 12,
   "id": "4763880a-512c-41e8-bd62-df884b0d42e0",
   "metadata": {},
   "outputs": [],
   "source": [
    "# Add m/s speed and time as a function of distance and speed.\n",
    "\n",
    "drive_edges_gdf['speed_m_s']=drive_edges_gdf['maxspeed']*1000/3600\n",
    "drive_edges_gdf['drive_time_s']=drive_edges_gdf['distance']/drive_edges_gdf['speed_m_s']"
   ]
  },
  {
   "cell_type": "markdown",
   "id": "e21f9b9a",
   "metadata": {},
   "source": [
    "## Create Shapefile for GAMA"
   ]
  },
  {
   "cell_type": "code",
   "execution_count": 13,
   "id": "30e1b385",
   "metadata": {},
   "outputs": [
    {
     "name": "stderr",
     "output_type": "stream",
     "text": [
      "C:\\Users\\iazka\\AppData\\Local\\Temp\\ipykernel_19508\\4092825897.py:1: UserWarning: Column names longer than 10 characters will be truncated when saved to ESRI Shapefile.\n",
      "  drive_edges_gdf.to_file(f\"data/drive_shapefile.shp\", driver='ESRI Shapefile')\n"
     ]
    }
   ],
   "source": [
    "drive_edges_gdf.to_file(f\"data/drive_shapefile.shp\", driver='ESRI Shapefile')"
   ]
  },
  {
   "cell_type": "markdown",
   "id": "3bb2a4f7-6a31-4824-834f-0194bbcbd1e2",
   "metadata": {},
   "source": [
    "### Create pandana network"
   ]
  },
  {
   "cell_type": "code",
   "execution_count": 14,
   "id": "b633ec7b-d4fa-4f20-8d10-a2cb58db1ea2",
   "metadata": {},
   "outputs": [],
   "source": [
    "drive_net_pdna=pandana.network.Network(\n",
    "    drive_nodes['lon'], drive_nodes['lat'], \n",
    "    drive_edges_gdf['from'], drive_edges_gdf['to'], \n",
    "    drive_edges_gdf[['distance','speed_m_s','drive_time_s']], twoway=False)"
   ]
  },
  {
   "cell_type": "code",
   "execution_count": 15,
   "id": "f17d65d9-5ae3-4654-8980-9e17f1c842dc",
   "metadata": {},
   "outputs": [],
   "source": [
    "drive_net_pdna.save_hdf5('networks/drive_net.h5')"
   ]
  },
  {
   "cell_type": "code",
   "execution_count": 28,
   "id": "8ed1d21a",
   "metadata": {},
   "outputs": [],
   "source": [
    "drive_nodes.to_csv(f\"data/drive_nodes.csv\")"
   ]
  },
  {
   "cell_type": "code",
   "execution_count": 14,
   "id": "d4f13f19-0efb-4c9a-9bd1-0af51e71aed5",
   "metadata": {},
   "outputs": [],
   "source": [
    "# drive_edges_gdf.to_file('../data/drive_net.geojson', index=False)\n",
    "# drive_edges_gdf.to_file('../front_end/data/drive_net.geojson', index=False)\n",
    "# drive_nodes.to_csv('../data/drive_nodes.csv')"
   ]
  },
  {
   "cell_type": "markdown",
   "id": "1c889f94",
   "metadata": {},
   "source": [
    "## Walk and Bike"
   ]
  },
  {
   "cell_type": "code",
   "execution_count": 5,
   "id": "36eae5f9",
   "metadata": {},
   "outputs": [
    {
     "name": "stdout",
     "output_type": "stream",
     "text": [
      "Requesting network data within bounding box from Overpass API in 4 request(s)\n",
      "Posting to http://www.overpass-api.de/api/interpreter with timeout=180, \"{'data': '[out:json][timeout:180];(way[\"highway\"][\"highway\"!~\"motor|proposed|construction|abandoned|platform|raceway\"][\"foot\"!~\"no\"][\"pedestrians\"!~\"no\"](42.97939051,-2.54228822,43.18868130,-2.13466437);>;);out;'}\"\n",
      "Downloaded 42,786.2KB from www.overpass-api.de in 3.12 seconds\n",
      "Posting to http://www.overpass-api.de/api/interpreter with timeout=180, \"{'data': '[out:json][timeout:180];(way[\"highway\"][\"highway\"!~\"motor|proposed|construction|abandoned|platform|raceway\"][\"foot\"!~\"no\"][\"pedestrians\"!~\"no\"](43.18632431,-2.54228822,43.39254746,-2.13173569);>;);out;'}\"\n",
      "Downloaded 21,365.7KB from www.overpass-api.de in 1.24 seconds\n",
      "Posting to http://www.overpass-api.de/api/interpreter with timeout=180, \"{'data': '[out:json][timeout:180];(way[\"highway\"][\"highway\"!~\"motor|proposed|construction|abandoned|platform|raceway\"][\"foot\"!~\"no\"][\"pedestrians\"!~\"no\"](43.18254539,-2.13466437,43.39254746,-1.72979091);>;);out;'}\"\n",
      "Downloaded 43,898.9KB from www.overpass-api.de in 2.26 seconds\n",
      "Posting to http://www.overpass-api.de/api/interpreter with timeout=180, \"{'data': '[out:json][timeout:180];(way[\"highway\"][\"highway\"!~\"motor|proposed|construction|abandoned|platform|raceway\"][\"foot\"!~\"no\"][\"pedestrians\"!~\"no\"](42.97939051,-2.13756201,43.18632431,-1.72979091);>;);out;'}\"\n",
      "Downloaded 31,896.7KB from www.overpass-api.de in 1.47 seconds\n",
      "Downloaded OSM network data within bounding box from Overpass API in 4 request(s) and 9.97 seconds\n",
      "35,766 duplicate records removed. Took 3.52 seconds\n",
      "Returning OSM data with 1,195,706 nodes and 84,516 ways...\n",
      "Edge node pairs completed. Took 30.42 seconds\n",
      "Returning processed graph with 95,185 nodes and 258,168 edges...\n",
      "Completed OSM data download and Pandana node and edge table creation in 46.62 seconds\n"
     ]
    }
   ],
   "source": [
    "walk_nodes, walk_edges = osmnet.load.network_from_bbox(\n",
    "    lat_min=min_lat, lng_min=min_lon, lat_max=max_lat, \n",
    "    lng_max=max_lon, network_type='walk', two_way=False)"
   ]
  },
  {
   "cell_type": "code",
   "execution_count": 6,
   "id": "ea14ae63",
   "metadata": {},
   "outputs": [],
   "source": [
    "walk_nodes=walk_nodes.rename(columns = {'x': 'lon', 'y': 'lat'})"
   ]
  },
  {
   "cell_type": "code",
   "execution_count": 7,
   "id": "8dcff75e",
   "metadata": {},
   "outputs": [],
   "source": [
    "walk_edges=walk_edges.merge(walk_nodes, how='left', left_on='from', right_index=True).rename(\n",
    "    columns={'lon': 'from_lon', 'lat': 'from_lat'})\n",
    "walk_edges=walk_edges.merge(walk_nodes, how='left', left_on='to', right_index=True).rename(\n",
    "    columns={'lon': 'to_lon', 'lat': 'to_lat'})"
   ]
  },
  {
   "cell_type": "code",
   "execution_count": 8,
   "id": "6f60ddb9",
   "metadata": {},
   "outputs": [],
   "source": [
    "walk_edges['geometry']=walk_edges.apply(\n",
    "    lambda row: LineString([[row['from_lon'], row['from_lat']],\n",
    "                             [row['to_lon'], row['to_lat']]]), axis=1)"
   ]
  },
  {
   "cell_type": "code",
   "execution_count": 26,
   "id": "6eefdaca",
   "metadata": {},
   "outputs": [],
   "source": [
    "walk_edges_gdf=gpd.GeoDataFrame(data=walk_edges, geometry='geometry', crs='epsg:4326')"
   ]
  },
  {
   "cell_type": "code",
   "execution_count": 11,
   "id": "51610d81",
   "metadata": {},
   "outputs": [],
   "source": [
    "walk_nodes.to_csv('data/walk_nodes.csv')"
   ]
  },
  {
   "cell_type": "markdown",
   "id": "a1c09a3d",
   "metadata": {},
   "source": [
    "### Create walk pandana network"
   ]
  },
  {
   "cell_type": "code",
   "execution_count": 27,
   "id": "67550197",
   "metadata": {},
   "outputs": [],
   "source": [
    "walk_net_pdna=pandana.network.Network(\n",
    "    walk_nodes['lon'], walk_nodes['lat'], \n",
    "    walk_edges_gdf['from'], walk_edges_gdf['to'], \n",
    "    walk_edges_gdf[['distance']], twoway=False)"
   ]
  },
  {
   "cell_type": "code",
   "execution_count": 28,
   "id": "b23b423e",
   "metadata": {},
   "outputs": [],
   "source": [
    "walk_net_pdna.save_hdf5('networks/walk_net.h5')"
   ]
  },
  {
   "cell_type": "code",
   "execution_count": 22,
   "id": "d8f265b0",
   "metadata": {},
   "outputs": [],
   "source": [
    "# walk_edges_gdf.to_file('../data/walk_net.geojson', index=False)\n",
    "# walk_edges_gdf.to_file('../front_end/data/walk_net.geojson', index=False)\n",
    "# walk_nodes.to_csv('../data/walk_nodes.csv')"
   ]
  },
  {
   "cell_type": "markdown",
   "id": "b6220e60",
   "metadata": {},
   "source": [
    "### Create bike pandana network"
   ]
  },
  {
   "cell_type": "code",
   "execution_count": 23,
   "id": "cfddaa01",
   "metadata": {},
   "outputs": [],
   "source": [
    "walk_net_pdna.save_hdf5('networks/bike_net.h5')"
   ]
  },
  {
   "cell_type": "code",
   "execution_count": 24,
   "id": "89667dcc",
   "metadata": {},
   "outputs": [],
   "source": [
    "# walk_edges_gdf.to_file('../data/bike_net.geojson', index=False)\n",
    "# walk_edges_gdf.to_file('../front_end/data/bike_net.geojson', index=False)\n",
    "# walk_nodes.to_csv('../data/bike_nodes.csv')"
   ]
  },
  {
   "cell_type": "code",
   "execution_count": null,
   "id": "3d75eba9",
   "metadata": {},
   "outputs": [],
   "source": []
  }
 ],
 "metadata": {
  "kernelspec": {
   "display_name": "base",
   "language": "python",
   "name": "python3"
  },
  "language_info": {
   "codemirror_mode": {
    "name": "ipython",
    "version": 3
   },
   "file_extension": ".py",
   "mimetype": "text/x-python",
   "name": "python",
   "nbconvert_exporter": "python",
   "pygments_lexer": "ipython3",
   "version": "3.11.2"
  }
 },
 "nbformat": 4,
 "nbformat_minor": 5
}
